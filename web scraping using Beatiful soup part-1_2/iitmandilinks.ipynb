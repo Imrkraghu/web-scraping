{
 "cells": [
  {
   "cell_type": "code",
   "execution_count": 5,
   "metadata": {},
   "outputs": [
    {
     "name": "stdout",
     "output_type": "stream",
     "text": [
      "['https://www.ihubiitmandi.in/my-account/lost-password/', 'https://www.ihubiitmandi.in/', 'https://ihubiitmandi.in/', 'https://www.ihubiitmandi.in/about-us/', 'https://www.ihubiitmandi.in/team/', 'https://www.ihubiitmandi.in/research-and-development/', 'https://www.ihubiitmandi.in/call-for-proposals/', 'https://www.ihubiitmandi.in/affiliated-faculty-2/', 'https://www.ihubiitmandi.in/fellowship/', 'https://www.ihubiitmandi.in/ongoing-projects/', 'https://www.ihubiitmandi.in/skill-development-programs/', 'https://www.ihubiitmandi.in/startups/', 'https://www.ihubiitmandi.in/collaborations/', 'https://www.ihubiitmandi.in/news-media/', 'https://www.ihubiitmandi.in/newsletter/', 'https://www.ihubiitmandi.in/press/', 'https://www.ihubiitmandi.in/brochure/', 'https://www.ihubiitmandi.in/gallery/', 'https://www.ihubiitmandi.in/center-of-excellence/', 'https://chci.iitmandi.ac.in/index.php', '#collapseSearchMobile', 'https://www.ihubiitmandi.in/my-account/', 'https://www.ihubiitmandi.in', 'https://ihubiitmandi.in/research-and-development/', 'https://ihubiitmandi.in/skill-development-programs/', 'https://ihubiitmandi.in/startups/', 'https://ihubiitmandi.in/collaborations/', 'tel:90154%2058338', 'tel:90154%2058338', 'mailto:tih@iitmandi.ac.in', 'https://ihubiitmandi.in/about-us/', 'https://ihubiitmandi.in/team/', 'https://ihubiitmandi.in/infrastructure/', 'https://ihubiitmandi.in/contact-us/', 'https://ihubiitmandi.in/donation/', 'https://ihubiitmandi.in/careers/', 'https://ihubiitmandi.in/press/', 'https://ihubiitmandi.in/call-for-proposals/', 'https://innovometer.ihubiitmandi.in/', 'https://www.ihubiitmandi.in/call-for-innovation/', 'https://www.ihubiitmandi.in/newsletter/', 'https://ihubiitmandi.in/visits-to-ihub-office/', 'https://ihubiitmandi.in/workshops/', 'https://ihubiitmandi.in/news/', 'http://ihubiitmandi.in/lp-courses/', 'https://ihubiitmandi.in/startups/', 'https://ihubiitmandi.in/tender/', 'https://www.ihubiitmandi.in/wp-content/uploads/2023/12/Procurement-Policy.pdf', 'https://www.ihubiitmandi.in/audit-reports/', '#top', 'https://www.facebook.com/iitmandiihub', 'https://twitter.com/IITMandiiHub', 'https://www.instagram.com/?hl=en ', 'https://www.linkedin.com/company/ihubiitmandi', 'https://www.youtube.com/@IITMandiiHubandHCIFoundation/featured']\n",
      "The number of links are 55\n"
     ]
    }
   ],
   "source": [
    "import requests\n",
    "from bs4 import BeautifulSoup\n",
    "urls =[]\n",
    "url = \"https://www.ihubiitmandi.in/about-us/\"\n",
    "headers = {\n",
    "    \"User-Agent\": \"Mozilla/5.0 (Windows NT 10.0; Win64; x64) AppleWebKit/537.36 (KHTML, like Gecko) Chrome/58.0.3029.110 Safari/537.3\"\n",
    "}\n",
    "try:\n",
    "    response = requests.get(url, headers=headers)\n",
    "    response.raise_for_status()  # it gives us http error if there is any of HTTP errors\n",
    "    soup = BeautifulSoup(response.content, 'html.parser')\n",
    "    all_links = soup.find_all(\"a\")\n",
    "    for link in all_links:\n",
    "        urls.append(link.get(\"href\"))\n",
    "    print(urls)\n",
    "    print(f\"The number of links are {len(urls)}\")\n",
    "except requests.exceptions.RequestException as e:\n",
    "    print(f\"Error fetching the URL: {e}\")"
   ]
  },
  {
   "cell_type": "markdown",
   "metadata": {},
   "source": [
    "performing the same operation using selenium"
   ]
  },
  {
   "cell_type": "code",
   "execution_count": 21,
   "metadata": {},
   "outputs": [
    {
     "name": "stdout",
     "output_type": "stream",
     "text": [
      "https://www.ihubiitmandi.in/my-account/lost-password/\n",
      "https://www.ihubiitmandi.in/\n",
      "https://ihubiitmandi.in/\n",
      "https://www.ihubiitmandi.in/about-us/\n",
      "https://www.ihubiitmandi.in/team/\n",
      "https://www.ihubiitmandi.in/research-and-development/\n",
      "https://www.ihubiitmandi.in/call-for-proposals/\n",
      "https://www.ihubiitmandi.in/affiliated-faculty-2/\n",
      "https://www.ihubiitmandi.in/fellowship/\n",
      "https://www.ihubiitmandi.in/ongoing-projects/\n",
      "https://www.ihubiitmandi.in/skill-development-programs/\n",
      "https://www.ihubiitmandi.in/startups/\n",
      "https://www.ihubiitmandi.in/collaborations/\n",
      "https://www.ihubiitmandi.in/news-media/\n",
      "https://www.ihubiitmandi.in/newsletter/\n",
      "https://www.ihubiitmandi.in/press/\n",
      "https://www.ihubiitmandi.in/brochure/\n",
      "https://www.ihubiitmandi.in/gallery/\n",
      "https://www.ihubiitmandi.in/center-of-excellence/\n",
      "https://chci.iitmandi.ac.in/index.php\n",
      "https://www.ihubiitmandi.in/about-us/#collapseSearchMobile\n",
      "https://www.ihubiitmandi.in/my-account/\n",
      "https://www.ihubiitmandi.in/\n",
      "https://ihubiitmandi.in/research-and-development/\n",
      "https://ihubiitmandi.in/skill-development-programs/\n",
      "https://ihubiitmandi.in/startups/\n",
      "https://ihubiitmandi.in/collaborations/\n",
      "tel:90154%2058338\n",
      "tel:90154%2058338\n",
      "mailto:tih@iitmandi.ac.in\n",
      "https://ihubiitmandi.in/about-us/\n",
      "https://ihubiitmandi.in/team/\n",
      "https://ihubiitmandi.in/infrastructure/\n",
      "https://ihubiitmandi.in/contact-us/\n",
      "https://ihubiitmandi.in/donation/\n",
      "https://ihubiitmandi.in/careers/\n",
      "https://ihubiitmandi.in/press/\n",
      "https://ihubiitmandi.in/call-for-proposals/\n",
      "https://innovometer.ihubiitmandi.in/\n",
      "https://www.ihubiitmandi.in/call-for-innovation/\n",
      "https://www.ihubiitmandi.in/newsletter/\n",
      "https://ihubiitmandi.in/visits-to-ihub-office/\n",
      "https://ihubiitmandi.in/workshops/\n",
      "https://ihubiitmandi.in/news/\n",
      "http://ihubiitmandi.in/lp-courses/\n",
      "https://ihubiitmandi.in/startups/\n",
      "https://ihubiitmandi.in/tender/\n",
      "https://www.ihubiitmandi.in/wp-content/uploads/2023/12/Procurement-Policy.pdf\n",
      "https://www.ihubiitmandi.in/audit-reports/\n",
      "https://www.ihubiitmandi.in/about-us/#top\n",
      "https://www.facebook.com/iitmandiihub\n",
      "https://twitter.com/IITMandiiHub\n",
      "https://www.instagram.com/?hl=en\n",
      "https://www.linkedin.com/company/ihubiitmandi\n",
      "https://www.youtube.com/@IITMandiiHubandHCIFoundation/featured\n",
      "The total number of valid links are 55\n"
     ]
    }
   ],
   "source": [
    "from selenium import webdriver\n",
    "from selenium.webdriver.common.by import By\n",
    "\n",
    "def links():\n",
    "    # Creating an instance of the Chrome WebDriver\n",
    "    driver = webdriver.Chrome()\n",
    "    \n",
    "    try:\n",
    "        # Navigate to the IIT Mandi iHub 'About Us' page\n",
    "        driver.get(\"https://www.ihubiitmandi.in/about-us/\")\n",
    "        \n",
    "        # Find all links on the page\n",
    "        pagelinks = driver.find_elements(By.TAG_NAME, 'a')\n",
    "        \n",
    "        # Filter out links without valid href attributes\n",
    "        references = [link.get_attribute(\"href\") for link in pagelinks if link.get_attribute(\"href\")]\n",
    "        \n",
    "        # Print each valid link and the total number of valid links\n",
    "        for link in references: \n",
    "            print(link)\n",
    "        print(f\"The total number of valid links are {len(references)}\")\n",
    "    \n",
    "    finally:\n",
    "        driver.quit()\n",
    "\n",
    "# Calling the function\n",
    "links()\n"
   ]
  },
  {
   "cell_type": "markdown",
   "metadata": {},
   "source": [
    "creating a automate tool to create an account"
   ]
  },
  {
   "cell_type": "code",
   "execution_count": null,
   "metadata": {},
   "outputs": [],
   "source": [
    "from selenium import webdriver\n",
    "from selenium.webdriver.common.by import By\n",
    "\n",
    "def links():\n",
    "    # Creating an instance of the Chrome WebDriver\n",
    "    driver = webdriver.Chrome()\n",
    "    \n",
    "    try:\n",
    "        # Navigate to the IIT Mandi iHub 'About Us' page\n",
    "        driver.get(\"https://pythondjango12345.pythonanywhere.com/\")\n",
    "        "
   ]
  }
 ],
 "metadata": {
  "kernelspec": {
   "display_name": ".venv",
   "language": "python",
   "name": "python3"
  },
  "language_info": {
   "codemirror_mode": {
    "name": "ipython",
    "version": 3
   },
   "file_extension": ".py",
   "mimetype": "text/x-python",
   "name": "python",
   "nbconvert_exporter": "python",
   "pygments_lexer": "ipython3",
   "version": "3.9.13"
  }
 },
 "nbformat": 4,
 "nbformat_minor": 2
}
