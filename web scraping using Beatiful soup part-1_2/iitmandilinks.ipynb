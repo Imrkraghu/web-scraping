{
 "cells": [
  {
   "cell_type": "code",
   "execution_count": 5,
   "metadata": {},
   "outputs": [
    {
     "name": "stdout",
     "output_type": "stream",
     "text": [
      "['https://www.ihubiitmandi.in/my-account/lost-password/', 'https://www.ihubiitmandi.in/', 'https://ihubiitmandi.in/', 'https://www.ihubiitmandi.in/about-us/', 'https://www.ihubiitmandi.in/team/', 'https://www.ihubiitmandi.in/research-and-development/', 'https://www.ihubiitmandi.in/call-for-proposals/', 'https://www.ihubiitmandi.in/affiliated-faculty-2/', 'https://www.ihubiitmandi.in/fellowship/', 'https://www.ihubiitmandi.in/ongoing-projects/', 'https://www.ihubiitmandi.in/skill-development-programs/', 'https://www.ihubiitmandi.in/startups/', 'https://www.ihubiitmandi.in/collaborations/', 'https://www.ihubiitmandi.in/news-media/', 'https://www.ihubiitmandi.in/newsletter/', 'https://www.ihubiitmandi.in/press/', 'https://www.ihubiitmandi.in/brochure/', 'https://www.ihubiitmandi.in/gallery/', 'https://www.ihubiitmandi.in/center-of-excellence/', 'https://chci.iitmandi.ac.in/index.php', '#collapseSearchMobile', 'https://www.ihubiitmandi.in/my-account/', 'https://www.ihubiitmandi.in', 'https://ihubiitmandi.in/research-and-development/', 'https://ihubiitmandi.in/skill-development-programs/', 'https://ihubiitmandi.in/startups/', 'https://ihubiitmandi.in/collaborations/', 'tel:90154%2058338', 'tel:90154%2058338', 'mailto:tih@iitmandi.ac.in', 'https://ihubiitmandi.in/about-us/', 'https://ihubiitmandi.in/team/', 'https://ihubiitmandi.in/infrastructure/', 'https://ihubiitmandi.in/contact-us/', 'https://ihubiitmandi.in/donation/', 'https://ihubiitmandi.in/careers/', 'https://ihubiitmandi.in/press/', 'https://ihubiitmandi.in/call-for-proposals/', 'https://innovometer.ihubiitmandi.in/', 'https://www.ihubiitmandi.in/call-for-innovation/', 'https://www.ihubiitmandi.in/newsletter/', 'https://ihubiitmandi.in/visits-to-ihub-office/', 'https://ihubiitmandi.in/workshops/', 'https://ihubiitmandi.in/news/', 'http://ihubiitmandi.in/lp-courses/', 'https://ihubiitmandi.in/startups/', 'https://ihubiitmandi.in/tender/', 'https://www.ihubiitmandi.in/wp-content/uploads/2023/12/Procurement-Policy.pdf', 'https://www.ihubiitmandi.in/audit-reports/', '#top', 'https://www.facebook.com/iitmandiihub', 'https://twitter.com/IITMandiiHub', 'https://www.instagram.com/?hl=en ', 'https://www.linkedin.com/company/ihubiitmandi', 'https://www.youtube.com/@IITMandiiHubandHCIFoundation/featured']\n",
      "The number of links are 55\n"
     ]
    }
   ],
   "source": [
    "import requests\n",
    "from bs4 import BeautifulSoup\n",
    "urls =[]\n",
    "url = \"https://www.ihubiitmandi.in/about-us/\"\n",
    "headers = {\n",
    "    \"User-Agent\": \"Mozilla/5.0 (Windows NT 10.0; Win64; x64) AppleWebKit/537.36 (KHTML, like Gecko) Chrome/58.0.3029.110 Safari/537.3\"\n",
    "}\n",
    "try:\n",
    "    response = requests.get(url, headers=headers)\n",
    "    response.raise_for_status()  # it gives us http error if there is any of HTTP errors\n",
    "    soup = BeautifulSoup(response.content, 'html.parser')\n",
    "    all_links = soup.find_all(\"a\")\n",
    "    for link in all_links:\n",
    "        urls.append(link.get(\"href\"))\n",
    "    print(urls)\n",
    "    print(f\"The number of links are {len(urls)}\")\n",
    "except requests.exceptions.RequestException as e:\n",
    "    print(f\"Error fetching the URL: {e}\")"
   ]
  },
  {
   "cell_type": "code",
   "execution_count": null,
   "metadata": {},
   "outputs": [],
   "source": []
  }
 ],
 "metadata": {
  "kernelspec": {
   "display_name": ".venv",
   "language": "python",
   "name": "python3"
  },
  "language_info": {
   "codemirror_mode": {
    "name": "ipython",
    "version": 3
   },
   "file_extension": ".py",
   "mimetype": "text/x-python",
   "name": "python",
   "nbconvert_exporter": "python",
   "pygments_lexer": "ipython3",
   "version": "3.9.13"
  }
 },
 "nbformat": 4,
 "nbformat_minor": 2
}
